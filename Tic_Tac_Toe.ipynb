{
  "nbformat": 4,
  "nbformat_minor": 0,
  "metadata": {
    "colab": {
      "provenance": []
    },
    "kernelspec": {
      "name": "python3",
      "display_name": "Python 3"
    },
    "language_info": {
      "name": "python"
    }
  },
  "cells": [
    {
      "cell_type": "markdown",
      "source": [
        "\n",
        "<a href=\"https://www.zero-grad.com/\">\n",
        "         <img alt=\"Zero Grad\" src=\"https://lh3.googleusercontent.com/oEMY-qk_B2HW_Fponz1a3u1fLfo3NpO0VFjQKnVW8fH0v93NAWala5Kgp0nN2ubiyZdEMpwhv3Ynv7bXsB0RZ28YfEd_ZlRum75OHEu0-z7XwHfcD3sin7_SORLzg1gz52MsxD3b1WbxQWX1RdR4HP3jpbJTOuCiddl92UBcQH_x-Llx7_XuZuwb9ekN9vYnKsw6U1yL2df4IVrJEDySttzab9qlHvMO7sSekgS64jPVAmATjqXqlvrwM026dhrad-7nX-hfr2uKlUGPuo9xKzVo4EhbUP1-pKBQNPNHO6P0KcReg3NxbtKmWXRyg9LPX0xO-wwXWt9GhCcPXFV_BoY5eQXabCjR3mlr9SO01VgWplas-XF4337_JOm-bVkiaQjQca_N4Gg0hy26TvIGRnHEMIPSgudYPqhMnatoN4xAC715rP82r1svC0_qadXMZHu6D40YqWnY9ZE-iujr2p1_CetxmG-uY94UATy7o-SnxuPchG4QfZkiUgRMr8xNg86bQMuBxbCS_lOyVMwfqwbt2IunlDcZ8yyN_3SJFzFHuFOOjQolgGQrytI0mP1oTwba7je0RtBtCuTck1UCMMsZvMnJhCtWgMmuLoYTkSCzxMXbz0T3L2AClDouA_3dwM7z1gdm8Gq4v06T1KWFUs1adGNH5fuj-pUHEfW4drzzXgolPH5SehqhaNsqdMttCPUzNPIIEjwfULyQi7nlP-w-qydK82mdhdmjQhrprfoGtsPckJkI1Tur60uZI7nLkES5cE3tQrGualSNArRkkU8KN4tStZ0CkmqZNkAlMbfAJSYBD7tDxhGSg922AdLevSLJMTUyg6KuHoY30r7zH1Z8fE0R8aFZL2LJl54OU_tkXEdlFlSnZTOdB-PVTj-yagpt99SetLnQIX5SS_Vxc0BNPKjUZG0oEHYbIxkbZN1O7Rg78xe-thytngS0byfuaeP2X4NYjg29FIffnn72bAUs9Ii0N2mOpABLg1uQMN4MyAa1Mbd_=w1300-h200-no?authuser=1\" >\n",
        "      </a>"
      ],
      "metadata": {
        "id": "hMV-7TpxbEDG"
      }
    },
    {
      "cell_type": "markdown",
      "source": [
        "# Tic Tac Toe Project Description"
      ],
      "metadata": {
        "id": "PhpgbWHJhJOW"
      }
    },
    {
      "cell_type": "markdown",
      "source": [
        " **`(1) Create Empty board (3x3):`**\n",
        "\n",
        "  `1  2  3`\n",
        "\n",
        "  `4 5 6`\n",
        "\n",
        "  `7 8 9`\n",
        "\n",
        " **`(2) Show Board`**\n",
        "\n",
        " **`(3) Set Players Randomly ('X', 'O')`**\n",
        "\n",
        " **`(4) Take Input from Player`**\n",
        "\n",
        " **`(5) Check Full Board >> Draw`**\n",
        "\n",
        " **`(6) Check if Someone wins >> Finish`**"
      ],
      "metadata": {
        "id": "9XJyp9xehPBl"
      }
    },
    {
      "cell_type": "markdown",
      "source": [
        "# Template"
      ],
      "metadata": {
        "id": "m2nflmTioFy_"
      }
    },
    {
      "cell_type": "markdown",
      "source": [
        "## Empty Board"
      ],
      "metadata": {
        "id": "GsE-z7Son-xm"
      }
    },
    {
      "cell_type": "code",
      "source": [
        "def create_empty_board():\n",
        "    board = [['1','2','3'],\n",
        "             ['4','5','6'],\n",
        "             ['7','8','9']]\n",
        "    for row in board:\n",
        "        for col in row:\n",
        "            print(col, end=\"\\t\")\n",
        "        print(\"\\n\")"
      ],
      "metadata": {
        "id": "YueCJNtPnndY"
      },
      "execution_count": null,
      "outputs": []
    },
    {
      "cell_type": "code",
      "source": [
        "create_empty_board()"
      ],
      "metadata": {
        "colab": {
          "base_uri": "https://localhost:8080/"
        },
        "id": "RMlzPMyHRIq7",
        "outputId": "64098ff7-8a79-46a2-a2d8-49fdd0d2f522"
      },
      "execution_count": null,
      "outputs": [
        {
          "output_type": "stream",
          "name": "stdout",
          "text": [
            "1\t2\t3\t\n",
            "\n",
            "4\t5\t6\t\n",
            "\n",
            "7\t8\t9\t\n",
            "\n"
          ]
        }
      ]
    },
    {
      "cell_type": "markdown",
      "source": [
        "## Show Board"
      ],
      "metadata": {
        "id": "qjKBWyq4f3Fr"
      }
    },
    {
      "cell_type": "code",
      "source": [
        "def show_board(board):\n",
        "    for row in board:\n",
        "        for col in row:\n",
        "            print(col, end=\"\\t\")\n",
        "        print(\"\\t\")"
      ],
      "metadata": {
        "id": "Bn6VqZo_Xze5"
      },
      "execution_count": null,
      "outputs": []
    },
    {
      "cell_type": "code",
      "source": [
        "board = [[1,2,3],[4,'X',6],[7,8,9]]\n",
        "show_board(board)"
      ],
      "metadata": {
        "colab": {
          "base_uri": "https://localhost:8080/"
        },
        "id": "Z7lIOpFfX3dU",
        "outputId": "b2c96cc4-f769-45af-c66d-b5f02efe553a"
      },
      "execution_count": null,
      "outputs": [
        {
          "output_type": "stream",
          "name": "stdout",
          "text": [
            "1\t2\t3\t\t\n",
            "4\tX\t6\t\t\n",
            "7\t8\t9\t\t\n"
          ]
        }
      ]
    },
    {
      "cell_type": "markdown",
      "source": [
        "## Set Players"
      ],
      "metadata": {
        "id": "ZaIwkooboJ5p"
      }
    },
    {
      "cell_type": "code",
      "source": [
        "def set_players():\n",
        "    import random\n",
        "    player1 = random.choice([\"X\",\"O\"])\n",
        "    if player1 == \"X\":\n",
        "       player2 = \"O\"\n",
        "    else:\n",
        "        player2 = \"X\"\n",
        "    return player1, player2"
      ],
      "metadata": {
        "id": "we7UkC6AhFwy"
      },
      "execution_count": null,
      "outputs": []
    },
    {
      "cell_type": "code",
      "source": [
        "set_players()"
      ],
      "metadata": {
        "colab": {
          "base_uri": "https://localhost:8080/"
        },
        "id": "3A_FDAHLWxNF",
        "outputId": "ffd12813-7dde-40a4-f46a-f7cf7f3c518a"
      },
      "execution_count": null,
      "outputs": [
        {
          "output_type": "execute_result",
          "data": {
            "text/plain": [
              "('O', 'X')"
            ]
          },
          "metadata": {},
          "execution_count": 98
        }
      ]
    },
    {
      "cell_type": "markdown",
      "source": [
        "## Take Input"
      ],
      "metadata": {
        "id": "VNl11PuZgDjc"
      }
    },
    {
      "cell_type": "code",
      "source": [
        "def take_input(board, player):\n",
        "    while True:\n",
        "          choice = input(\"Enter a number between 1,9 represents an empty position: \")\n",
        "          if choice == '1' and board[0][0].isdigit():\n",
        "             board[0][0] = player\n",
        "             break\n",
        "          elif choice == '2' and board[0][1].isdigit():\n",
        "             board[0][1] = player\n",
        "             break\n",
        "          elif choice == '3' and board[0][2].isdigit():\n",
        "              board[0][2] = player\n",
        "              break\n",
        "          elif choice == '4' and board[1][0].isdigit():\n",
        "             board[1][0] = player\n",
        "             break\n",
        "          elif choice == '5' and board[1][1].isdigit():\n",
        "             board[1][1] = player\n",
        "             break\n",
        "          elif choice == '6' and board[1][2].isdigit():\n",
        "             board[1][2] = player\n",
        "             break\n",
        "          elif choice == '7' and board[2][0].isdigit():\n",
        "             board[2][0] = player\n",
        "             break\n",
        "          elif choice == '8' and board[2][1].isdigit():\n",
        "             board[2][1] = player\n",
        "             break\n",
        "          elif choice == '9'and board[2][2].isdigit():\n",
        "             board[2][2] = player\n",
        "             break\n",
        "          else:\n",
        "             print(\"Invalid Choice\")\n",
        "             continue\n",
        "    show_board(board)"
      ],
      "metadata": {
        "id": "pZAd299MY2fw"
      },
      "execution_count": null,
      "outputs": []
    },
    {
      "cell_type": "code",
      "source": [
        "board = [['1','2','3'],['4','X','6'],['7','8','9']]\n",
        "player ='O'\n",
        "player_input = '8'\n",
        "take_input(board, player)"
      ],
      "metadata": {
        "colab": {
          "base_uri": "https://localhost:8080/"
        },
        "id": "bH2UI4GEcAVp",
        "outputId": "34ef886e-00b8-4f0e-82b7-28f9cfd5f854"
      },
      "execution_count": null,
      "outputs": [
        {
          "output_type": "stream",
          "name": "stdout",
          "text": [
            "Enter a number between 1,9 represents an empty position: 6\n",
            "1\t2\t3\t\t\n",
            "4\tX\tO\t\t\n",
            "7\t8\t9\t\t\n"
          ]
        }
      ]
    },
    {
      "cell_type": "markdown",
      "source": [
        "## Check Full Board"
      ],
      "metadata": {
        "id": "mgCFF48jgVq7"
      }
    },
    {
      "cell_type": "code",
      "source": [
        "def check_full_board(board):\n",
        "    for row in board:\n",
        "        for col in row:\n",
        "            if col.isdigit():\n",
        "               return False\n",
        "    return True"
      ],
      "metadata": {
        "id": "obxUdjg_ThZi"
      },
      "execution_count": null,
      "outputs": []
    },
    {
      "cell_type": "code",
      "source": [
        "board = [['X','X','X'],['O','X','O'],['X','O','X']]\n",
        "check_full_board(board)"
      ],
      "metadata": {
        "colab": {
          "base_uri": "https://localhost:8080/"
        },
        "id": "TcLZt1PqS_9i",
        "outputId": "eda34614-4ebd-4b68-b6c7-b9be5cd2fb66"
      },
      "execution_count": null,
      "outputs": [
        {
          "output_type": "execute_result",
          "data": {
            "text/plain": [
              "True"
            ]
          },
          "metadata": {},
          "execution_count": 101
        }
      ]
    },
    {
      "cell_type": "code",
      "source": [
        "board = [['O','X','X'],['4','X','O'],['X','O','X']]\n",
        "check_full_board(board)"
      ],
      "metadata": {
        "colab": {
          "base_uri": "https://localhost:8080/"
        },
        "id": "s475eihMkEqL",
        "outputId": "22629ef6-f690-46d1-96ba-ea6f057c4ceb"
      },
      "execution_count": null,
      "outputs": [
        {
          "output_type": "execute_result",
          "data": {
            "text/plain": [
              "False"
            ]
          },
          "metadata": {},
          "execution_count": 103
        }
      ]
    },
    {
      "cell_type": "markdown",
      "source": [
        "## Check Win\n"
      ],
      "metadata": {
        "id": "OjfyXPCeoQM4"
      }
    },
    {
      "cell_type": "code",
      "source": [
        "def check_win(board):\n",
        "    return board[0][0] == board[0][1] == board[0][2] or \\\n",
        "           board[1][0] == board[1][1] == board[1][2] or \\\n",
        "           board[2][0] == board[2][1] == board[2][2] or \\\n",
        "           board[0][0] == board[1][0] == board[2][0] or \\\n",
        "           board[0][1] == board[1][1] == board[2][1] or \\\n",
        "           board[0][2] == board[1][2] == board[2][2] or \\\n",
        "           board[0][0] == board[1][1] == board[2][2] or \\\n",
        "           board[0][2] == board[1][1] == board[2][0]"
      ],
      "metadata": {
        "id": "NTxJ1qsJmhoG"
      },
      "execution_count": null,
      "outputs": []
    },
    {
      "cell_type": "code",
      "source": [
        "board = [['O','X','X'],['X','O','X'],['X','O','X']]\n",
        "show_board(board)\n",
        "check_win(board)"
      ],
      "metadata": {
        "colab": {
          "base_uri": "https://localhost:8080/"
        },
        "id": "E-mETiZEfZqp",
        "outputId": "a8a3784a-f67b-42a8-8692-8112825c4bda"
      },
      "execution_count": null,
      "outputs": [
        {
          "output_type": "stream",
          "name": "stdout",
          "text": [
            "O\tX\tX\t\t\n",
            "X\tO\tX\t\t\n",
            "X\tO\tX\t\t\n"
          ]
        },
        {
          "output_type": "execute_result",
          "data": {
            "text/plain": [
              "True"
            ]
          },
          "metadata": {},
          "execution_count": 105
        }
      ]
    },
    {
      "cell_type": "code",
      "source": [
        "board = [['O','O','O'],['O','O','X'],['X','O','X']]\n",
        "show_board(board)\n",
        "check_win(board)"
      ],
      "metadata": {
        "colab": {
          "base_uri": "https://localhost:8080/"
        },
        "id": "CmlQlsjZkIut",
        "outputId": "79c8a420-58ec-475b-d9ce-803a5b326b46"
      },
      "execution_count": null,
      "outputs": [
        {
          "output_type": "stream",
          "name": "stdout",
          "text": [
            "O\tO\tO\t\t\n",
            "O\tO\tX\t\t\n",
            "X\tO\tX\t\t\n"
          ]
        },
        {
          "output_type": "execute_result",
          "data": {
            "text/plain": [
              "True"
            ]
          },
          "metadata": {},
          "execution_count": 106
        }
      ]
    },
    {
      "cell_type": "markdown",
      "source": [
        "## Let's Play"
      ],
      "metadata": {
        "id": "uI9u-XGV2S7P"
      }
    },
    {
      "cell_type": "code",
      "source": [
        "def play():\n",
        "    player1, player2 = set_players()\n",
        "    print(f\"Player 1 is {player1}\\nPlayer 2 is {player2}\")\n",
        "    board = [['1','2','3'],\n",
        "             ['4','5','6'],\n",
        "             ['7','8','9']]\n",
        "\n",
        "    show_board(board)\n",
        "\n",
        "    while True:\n",
        "          for player in [player1, player2]:\n",
        "              print(f\"{player} turn\")\n",
        "              take_input(board, player)\n",
        "              if check_win(board):\n",
        "                 print(f\"player {player} won !\")\n",
        "                 break\n",
        "              if check_full_board(board):\n",
        "                 print(\"Game finished, Draw. Dash board is full\")\n",
        "                 break\n",
        "          if check_win(board):\n",
        "             print(f\"player {player} won !\")\n",
        "             return\n",
        "          if check_full_board(board):\n",
        "             print(\"Game finished, Draw. Dash board is full\")\n",
        "             return"
      ],
      "metadata": {
        "id": "4nIAPOhSpksM"
      },
      "execution_count": null,
      "outputs": []
    },
    {
      "cell_type": "code",
      "source": [
        "7\n",
        "play()"
      ],
      "metadata": {
        "colab": {
          "base_uri": "https://localhost:8080/"
        },
        "id": "7m9ENdZp1Ffg",
        "outputId": "fe455a6f-9c38-4cf9-f73c-06477e669fb9"
      },
      "execution_count": null,
      "outputs": [
        {
          "output_type": "stream",
          "name": "stdout",
          "text": [
            "Player 1 is O\n",
            "Player 2 is X\n",
            "1\t2\t3\t\t\n",
            "4\t5\t6\t\t\n",
            "7\t8\t9\t\t\n",
            "O turn\n",
            "Enter a number between 1,9 represents an empty position: 1\n",
            "O\t2\t3\t\t\n",
            "4\t5\t6\t\t\n",
            "7\t8\t9\t\t\n",
            "X turn\n",
            "Enter a number between 1,9 represents an empty position: 2\n",
            "O\tX\t3\t\t\n",
            "4\t5\t6\t\t\n",
            "7\t8\t9\t\t\n",
            "O turn\n",
            "Enter a number between 1,9 represents an empty position: 3\n",
            "O\tX\tO\t\t\n",
            "4\t5\t6\t\t\n",
            "7\t8\t9\t\t\n",
            "X turn\n",
            "Enter a number between 1,9 represents an empty position: 4\n",
            "O\tX\tO\t\t\n",
            "X\t5\t6\t\t\n",
            "7\t8\t9\t\t\n",
            "O turn\n",
            "Enter a number between 1,9 represents an empty position: 5\n",
            "O\tX\tO\t\t\n",
            "X\tO\t6\t\t\n",
            "7\t8\t9\t\t\n",
            "X turn\n",
            "Enter a number between 1,9 represents an empty position: 6\n",
            "O\tX\tO\t\t\n",
            "X\tO\tX\t\t\n",
            "7\t8\t9\t\t\n",
            "O turn\n",
            "Enter a number between 1,9 represents an empty position: 7\n",
            "O\tX\tO\t\t\n",
            "X\tO\tX\t\t\n",
            "O\t8\t9\t\t\n",
            "player O won !\n",
            "player O won !\n"
          ]
        }
      ]
    }
  ]
}